{
 "cells": [
  {
   "cell_type": "code",
   "execution_count": 40,
   "metadata": {},
   "outputs": [
    {
     "name": "stdout",
     "output_type": "stream",
     "text": [
      "Video loaded. Resolution: 320x240 frames: 179\n",
      "done\n"
     ]
    }
   ],
   "source": [
    "import cv2\n",
    "import numpy as np\n",
    "\n",
    "#File config\n",
    "readPath = \"C:/College/Senior 1/NDE/IR/IR1.avi\"\n",
    "imagePath = \"C:/College/Senior 1/NDE/IR/images/\"\n",
    "videoOutPath = \"C:/College/Senior 1/NDE/IR/IR_out.mp4\"\n",
    "video = cv2.VideoCapture(readPath)\n",
    "\n",
    "#Debug config\n",
    "show_grayscale = False\n",
    "show_dt = False\n",
    "\n",
    "\n",
    "#Input video data\n",
    "frames = int(video.get(cv2.CAP_PROP_FRAME_COUNT))\n",
    "width  = int(video.get(cv2.CAP_PROP_FRAME_WIDTH))\n",
    "height  = int(video.get(cv2.CAP_PROP_FRAME_HEIGHT))\n",
    "framerate = video.get(cv2.CAP_PROP_FPS)\n",
    "\n",
    "print(\"Video loaded. Resolution: \" + str(width) + \"x\" + str(height) + \" frames: \" + str(frames))\n",
    "\n",
    "#calculate the derivative of color at each point in the image with respect to the previous and next image\n",
    "def timeDerivative(array):\n",
    "    dtArray = []\n",
    "    #Calculate the time derivatives\n",
    "    for f in np.arange(1, len(array)-1):\n",
    "        dtArray.append(array[f-1]-array[f+1])\n",
    "        if(show_dt):\n",
    "            cv2.imshow(\"Time derivative \" + str(f) + \"/\" + str(frames), dtArray[f])\n",
    "            cv2.waitKey(0)\n",
    "            cv2.destroyAllWindows() \n",
    "    return dtArray\n",
    "\n",
    "#Write the videos and image array to a file\n",
    "def writeVideo(array):\n",
    "    outputVideo = cv2.VideoWriter(videoOutPath, cv2.VideoWriter_fourcc('M','P','E','G'), framerate, (width, height))\n",
    "    for f in np.arange(0, len(array)):\n",
    "        outputVideo.write(cv2.cvtColor(array[f]*f,cv2.COLOR_GRAY2BGR))\n",
    "        cv2.imwrite(imagePath+str(f)+\".png\",array[f])\n",
    "    outputVideo.release()\n",
    "\n",
    "    \n",
    "grayscaleArray = []\n",
    "\n",
    "#Convert to a list of NDArrays\n",
    "while(True):\n",
    "    ret, frame = video.read()\n",
    "    if(ret):\n",
    "        grayscaleFrame = cv2.cvtColor(frame, cv2.COLOR_BGR2GRAY)\n",
    "        grayscaleArray.append(grayscaleFrame)        \n",
    "        if(show_grayscale):\n",
    "            cv2.imshow(\"Grayscale \" + str(frameCount) + \"/\" + str(frames), grayscaleFrame)\n",
    "            cv2.waitKey(0)\n",
    "            cv2.destroyAllWindows() \n",
    "        frameCount+=1\n",
    "\n",
    "    else:\n",
    "        break\n",
    "\n",
    "#Smooth the video to (attempt) to remove the artefacting present after derivative calculations\n",
    "def blur(array):\n",
    "    blurArray=[]\n",
    "    for f in np.arange(0,len(array)):\n",
    "        blurArray.append(cv2.bilateralFilter(array[f], 9,75,75))\n",
    "    return blurArray\n",
    "video.release()\n",
    "\n",
    "#writeVideo(grayscaleArray)\n",
    "writeVideo(timeDerivative(timeDerivative(grayscaleArray)))\n",
    "\n",
    "print(\"done\")"
   ]
  },
  {
   "cell_type": "code",
   "execution_count": null,
   "metadata": {},
   "outputs": [],
   "source": []
  },
  {
   "cell_type": "code",
   "execution_count": null,
   "metadata": {},
   "outputs": [],
   "source": []
  }
 ],
 "metadata": {
  "kernelspec": {
   "display_name": "Python 3",
   "language": "python",
   "name": "python3"
  },
  "language_info": {
   "codemirror_mode": {
    "name": "ipython",
    "version": 3
   },
   "file_extension": ".py",
   "mimetype": "text/x-python",
   "name": "python",
   "nbconvert_exporter": "python",
   "pygments_lexer": "ipython3",
   "version": "3.8.3"
  }
 },
 "nbformat": 4,
 "nbformat_minor": 4
}
